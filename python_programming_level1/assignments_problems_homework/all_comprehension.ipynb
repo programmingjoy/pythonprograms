{
 "cells": [
  {
   "cell_type": "code",
   "execution_count": 20,
   "id": "2fc4fc88",
   "metadata": {},
   "outputs": [
    {
     "name": "stdout",
     "output_type": "stream",
     "text": [
      "[0, 1, 2, 3, 4, 5, 6, 7, 8, 9]\n"
     ]
    }
   ],
   "source": [
    "newlist = [0,1,2,3,4,5,6,7,8,9]\n",
    "print(newlist)"
   ]
  },
  {
   "cell_type": "code",
   "execution_count": 21,
   "id": "44123b88",
   "metadata": {},
   "outputs": [
    {
     "name": "stdout",
     "output_type": "stream",
     "text": [
      "[0, 1, 2, 3, 4, 5, 6, 7, 8, 9]\n"
     ]
    }
   ],
   "source": [
    "newlist = [x for x in range(10)] \n",
    "print(newlist)"
   ]
  },
  {
   "cell_type": "code",
   "execution_count": 5,
   "id": "c2df259b",
   "metadata": {},
   "outputs": [
    {
     "name": "stdout",
     "output_type": "stream",
     "text": [
      "[0, 1, 4, 9, 16, 25, 36, 49, 64, 81]\n"
     ]
    }
   ],
   "source": [
    "print([x*x for x in range(10)])"
   ]
  },
  {
   "cell_type": "code",
   "execution_count": 19,
   "id": "982715cf",
   "metadata": {},
   "outputs": [
    {
     "name": "stdout",
     "output_type": "stream",
     "text": [
      "[1, 27, 125, 343, 729]\n"
     ]
    }
   ],
   "source": [
    "print([x ** 3 for x in range(10) if x % 2 == 1])"
   ]
  },
  {
   "cell_type": "code",
   "execution_count": 18,
   "id": "e4ea6191",
   "metadata": {},
   "outputs": [
    {
     "name": "stdout",
     "output_type": "stream",
     "text": [
      "{0: 0, 1: 1, 2: 4, 3: 9, 4: 16, 5: 25, 6: 36, 7: 49, 8: 64, 9: 81}\n"
     ]
    }
   ],
   "source": [
    "print({x:x*x for x in range(10)})"
   ]
  },
  {
   "cell_type": "code",
   "execution_count": 17,
   "id": "293c79c3",
   "metadata": {},
   "outputs": [
    {
     "name": "stdout",
     "output_type": "stream",
     "text": [
      "{0, 1, 64, 4, 36, 9, 16, 49, 81, 25}\n"
     ]
    }
   ],
   "source": [
    "print({x*x for x in range(10)})"
   ]
  },
  {
   "cell_type": "code",
   "execution_count": 16,
   "id": "df483cd9",
   "metadata": {},
   "outputs": [
    {
     "name": "stdout",
     "output_type": "stream",
     "text": [
      "(0, 1, 4, 9, 16, 25, 36, 49, 64, 81)\n"
     ]
    }
   ],
   "source": [
    "newtuple = *(x*x for x in range(10)),\n",
    "print(newtuple)"
   ]
  },
  {
   "cell_type": "code",
   "execution_count": null,
   "id": "cadccda4",
   "metadata": {},
   "outputs": [],
   "source": []
  }
 ],
 "metadata": {
  "kernelspec": {
   "display_name": "Python 3 (ipykernel)",
   "language": "python",
   "name": "python3"
  },
  "language_info": {
   "codemirror_mode": {
    "name": "ipython",
    "version": 3
   },
   "file_extension": ".py",
   "mimetype": "text/x-python",
   "name": "python",
   "nbconvert_exporter": "python",
   "pygments_lexer": "ipython3",
   "version": "3.9.7"
  }
 },
 "nbformat": 4,
 "nbformat_minor": 5
}
