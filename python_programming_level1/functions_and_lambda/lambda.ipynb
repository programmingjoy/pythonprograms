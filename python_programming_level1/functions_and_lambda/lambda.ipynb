{
 "cells": [
  {
   "cell_type": "markdown",
   "metadata": {},
   "source": [
    "# what is a lambda function"
   ]
  },
  {
   "cell_type": "code",
   "execution_count": null,
   "metadata": {},
   "outputs": [],
   "source": [
    "# Lambdas are one line functions. \n",
    "\n",
    "# They are better known as unknown functions or anonymous functions\n",
    "\n",
    "# lambdas are used when you just want to use a function only once in a program \n",
    "\n",
    "# They are just like normal functions and they behave just like that"
   ]
  },
  {
   "cell_type": "code",
   "execution_count": null,
   "metadata": {},
   "outputs": [],
   "source": [
    "mysum = lambda a, b, c: a + b + c\n",
    "print(mysum(3, 5, 4))"
   ]
  },
  {
   "cell_type": "code",
   "execution_count": null,
   "metadata": {},
   "outputs": [],
   "source": [
    "mult3 = filter(lambda x: x % 2 == 0, [1, 2, 3, 4, 5, 6, 7, 8, 9])\n",
    "print(list(mult3))"
   ]
  },
  {
   "cell_type": "code",
   "execution_count": 20,
   "metadata": {},
   "outputs": [
    {
     "name": "stdout",
     "output_type": "stream",
     "text": [
      "[(1, 2), (4, 1), (9, 10), (13, -3)]\n",
      "[(13, -3), (4, 1), (1, 2), (9, 10)]\n"
     ]
    }
   ],
   "source": [
    "p = [(1, 2), (4, 1), (9, 10), (13, -3)]\n",
    "p.sort(key=lambda r: r[0])\n",
    "print(p)\n",
    "p.sort(key=lambda r: r[1])\n",
    "print(p)"
   ]
  },
  {
   "cell_type": "code",
   "execution_count": 21,
   "metadata": {},
   "outputs": [
    {
     "name": "stdout",
     "output_type": "stream",
     "text": [
      "[3, 2, 4, 1, 5, 6, 7, 8, 9]\n"
     ]
    }
   ],
   "source": [
    "print(sorted([1, 2, 3, 4, 5, 6, 7, 8, 9], key=lambda x: abs(3-x)))\n",
    "# [2, 1, 0, 1, 2, 3, 4, 5, 6]"
   ]
  },
  {
   "cell_type": "code",
   "execution_count": 22,
   "metadata": {},
   "outputs": [
    {
     "name": "stdout",
     "output_type": "stream",
     "text": [
      "<function transform.<locals>.<lambda> at 0x0000023A59DB6820>\n",
      "16\n",
      "25\n"
     ]
    }
   ],
   "source": [
    "# lambda as  a return value from a function\n",
    "def transform(n):\n",
    "    return lambda x: x ** n\n",
    "\n",
    "retval = transform(2)\n",
    "print(f)\n",
    "print(retval(4))\n",
    "print(retval(5))"
   ]
  },
  {
   "cell_type": "code",
   "execution_count": null,
   "metadata": {},
   "outputs": [],
   "source": []
  }
 ],
 "metadata": {
  "kernelspec": {
   "display_name": "Python 3 (ipykernel)",
   "language": "python",
   "name": "python3"
  },
  "language_info": {
   "codemirror_mode": {
    "name": "ipython",
    "version": 3
   },
   "file_extension": ".py",
   "mimetype": "text/x-python",
   "name": "python",
   "nbconvert_exporter": "python",
   "pygments_lexer": "ipython3",
   "version": "3.9.7"
  }
 },
 "nbformat": 4,
 "nbformat_minor": 4
}
