{
 "cells": [
  {
   "cell_type": "markdown",
   "id": "543377a9",
   "metadata": {},
   "source": [
    "# functions in python"
   ]
  },
  {
   "cell_type": "code",
   "execution_count": null,
   "id": "033a996a",
   "metadata": {},
   "outputs": [],
   "source": [
    "def yourfunc(): \n",
    "    print(\"This is function definition\")\n",
    "\n",
    "yourfunc() # This is a function call"
   ]
  },
  {
   "cell_type": "markdown",
   "id": "517f7534",
   "metadata": {},
   "source": [
    "# pass data as an argument to function"
   ]
  },
  {
   "cell_type": "code",
   "execution_count": null,
   "id": "be66386b",
   "metadata": {},
   "outputs": [],
   "source": [
    "def yourfunc(b): \n",
    "    b = b ** 2\n",
    "    print(b)\n",
    "\n",
    "p = 40\n",
    "yourfunc(p)"
   ]
  },
  {
   "cell_type": "markdown",
   "id": "0e2f6766",
   "metadata": {},
   "source": [
    "# return data using 'return' from a function"
   ]
  },
  {
   "cell_type": "code",
   "execution_count": null,
   "id": "9904b237",
   "metadata": {},
   "outputs": [],
   "source": [
    "def yourfunc(b): \n",
    "    b = b ** 2\n",
    "    return b\n",
    "\n",
    "p = 40\n",
    "print(yourfunc(p))"
   ]
  },
  {
   "cell_type": "markdown",
   "id": "85bfa10d",
   "metadata": {},
   "source": [
    "# pass more than one value to a function"
   ]
  },
  {
   "cell_type": "code",
   "execution_count": null,
   "id": "15e8f16a",
   "metadata": {},
   "outputs": [],
   "source": [
    "def yourfunc(b,c,d): \n",
    "    print(b,c,d)\n",
    "    return b*c*d\n",
    "\n",
    "p = 10\n",
    "q = 20\n",
    "r = 30\n",
    "print(yourfunc(p,q,r))"
   ]
  },
  {
   "cell_type": "markdown",
   "id": "c6c0eedc",
   "metadata": {},
   "source": [
    "# pass a list, set, dictionary and set to function"
   ]
  },
  {
   "cell_type": "code",
   "execution_count": null,
   "id": "e1c52fb9",
   "metadata": {},
   "outputs": [],
   "source": [
    "def yourfunc(b): \n",
    "    print(b)\n",
    "\n",
    "p = [3,4,67]\n",
    "yourfunc(p)"
   ]
  },
  {
   "cell_type": "code",
   "execution_count": null,
   "id": "48f5e045",
   "metadata": {},
   "outputs": [],
   "source": [
    "def yourfunc(b,c,d): \n",
    "    print(b)\n",
    "    print(c)\n",
    "    print(d)\n",
    "\n",
    "p = (3,4,67)\n",
    "q = {34,56,78}\n",
    "r = {3:56,6:78,12:33}\n",
    "yourfunc(p,q,r)"
   ]
  },
  {
   "cell_type": "markdown",
   "id": "d7ae215d",
   "metadata": {},
   "source": [
    "# return a set, list, tuple or a dictionary"
   ]
  },
  {
   "cell_type": "code",
   "execution_count": null,
   "id": "764071d5",
   "metadata": {},
   "outputs": [],
   "source": [
    "def yourfunc(): \n",
    "    b = [23,45,79]\n",
    "    return b\n",
    "\n",
    "print(yourfunc())"
   ]
  },
  {
   "cell_type": "code",
   "execution_count": null,
   "id": "349008fc",
   "metadata": {},
   "outputs": [],
   "source": [
    "def yourfunc(): \n",
    "    b = (23,45,79)\n",
    "    return b\n",
    "\n",
    "print(yourfunc())"
   ]
  },
  {
   "cell_type": "code",
   "execution_count": null,
   "id": "3bed69f9",
   "metadata": {},
   "outputs": [],
   "source": [
    "def yourfunc(): \n",
    "    b = {23,45,79}\n",
    "    return b\n",
    "\n",
    "print(yourfunc())"
   ]
  },
  {
   "cell_type": "code",
   "execution_count": null,
   "id": "af5d11fe",
   "metadata": {},
   "outputs": [],
   "source": [
    "def yourfunc(): \n",
    "    b = {23:1,45:12,79:\"John\"}\n",
    "    return b\n",
    "\n",
    "print(yourfunc())"
   ]
  },
  {
   "cell_type": "markdown",
   "id": "96bc3b35",
   "metadata": {},
   "source": [
    "# default function arguments"
   ]
  },
  {
   "cell_type": "code",
   "execution_count": 27,
   "id": "2c098eec",
   "metadata": {},
   "outputs": [
    {
     "name": "stdout",
     "output_type": "stream",
     "text": [
      "Hello Hrishikesh, Good morning!\n",
      "Hello Shalini, How do you do?\n",
      "Hello Karthik, Good morning!\n",
      "Hello Karthik, How do you do\n",
      "Hello How do you do, Good morning!\n"
     ]
    }
   ],
   "source": [
    "#Python program that shows default arguments\n",
    "\n",
    "def greetings(name=\"Karthik\", msg=\"Good morning!\"):\n",
    "    print(\"Hello\", name + ', ' + msg)\n",
    "\n",
    "greetings(\"Hrishikesh\")\n",
    "greetings(\"Shalini\", \"How do you do?\")\n",
    "greetings()\n",
    "greetings(msg=\"How do you do\")\n",
    "greetings(\"How do you do\")"
   ]
  },
  {
   "cell_type": "code",
   "execution_count": 28,
   "id": "7affcd24",
   "metadata": {},
   "outputs": [
    {
     "name": "stdout",
     "output_type": "stream",
     "text": [
      "100\n",
      "50\n",
      "300\n"
     ]
    }
   ],
   "source": [
    "#Python program that shows default arguments\n",
    "\n",
    "def calculatearea(length=20, breadth=5):\n",
    "    return length * breadth\n",
    "\n",
    "print(calculatearea()) \n",
    "print(calculatearea(10)) \n",
    "print(calculatearea(breadth=15))"
   ]
  },
  {
   "cell_type": "code",
   "execution_count": null,
   "id": "4ff6b008",
   "metadata": {},
   "outputs": [],
   "source": []
  }
 ],
 "metadata": {
  "kernelspec": {
   "display_name": "Python 3 (ipykernel)",
   "language": "python",
   "name": "python3"
  },
  "language_info": {
   "codemirror_mode": {
    "name": "ipython",
    "version": 3
   },
   "file_extension": ".py",
   "mimetype": "text/x-python",
   "name": "python",
   "nbconvert_exporter": "python",
   "pygments_lexer": "ipython3",
   "version": "3.9.7"
  }
 },
 "nbformat": 4,
 "nbformat_minor": 5
}
