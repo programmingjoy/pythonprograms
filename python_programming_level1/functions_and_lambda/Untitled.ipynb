{
 "cells": [
  {
   "cell_type": "code",
   "execution_count": 17,
   "id": "8290aa40",
   "metadata": {},
   "outputs": [
    {
     "name": "stdout",
     "output_type": "stream",
     "text": [
      "This is function definition\n"
     ]
    }
   ],
   "source": [
    "def yourfunc(): \n",
    "    print(\"This is function definition\")\n",
    "\n",
    "yourfunc()"
   ]
  },
  {
   "cell_type": "code",
   "execution_count": 18,
   "id": "781fe26e",
   "metadata": {},
   "outputs": [
    {
     "name": "stdout",
     "output_type": "stream",
     "text": [
      "Give a number56\n",
      "3136\n"
     ]
    }
   ],
   "source": [
    "def yourfunc(b): \n",
    "    b = b ** 2\n",
    "    return b\n",
    "\n",
    "p = int(input(\"Give a number\"))\n",
    "print(yourfunc(p))"
   ]
  },
  {
   "cell_type": "code",
   "execution_count": 20,
   "id": "d2f53596",
   "metadata": {},
   "outputs": [
    {
     "name": "stdout",
     "output_type": "stream",
     "text": [
      "10 20 30\n",
      "6000\n"
     ]
    }
   ],
   "source": [
    "def yourfunc(b,c,d): \n",
    "    print(b,c,d)\n",
    "    return b*c*d\n",
    "\n",
    "p = 10\n",
    "q = 20\n",
    "r = 30\n",
    "print(yourfunc(p,q,r))"
   ]
  },
  {
   "cell_type": "code",
   "execution_count": 3,
   "id": "06dcd625",
   "metadata": {},
   "outputs": [
    {
     "name": "stdout",
     "output_type": "stream",
     "text": [
      "[3, 4, 67]\n"
     ]
    }
   ],
   "source": [
    "def yourfunc(b): \n",
    "    print(b)\n",
    "\n",
    "p = [3,4,67]\n",
    "yourfunc(p)"
   ]
  },
  {
   "cell_type": "code",
   "execution_count": 5,
   "id": "1e06196b",
   "metadata": {},
   "outputs": [
    {
     "name": "stdout",
     "output_type": "stream",
     "text": [
      "(3, 4, 67)\n",
      "(34, 56, 78)\n",
      "{3: 56, 6: 78, 12: 33}\n"
     ]
    }
   ],
   "source": [
    "def yourfunc(b,c,d): \n",
    "    print(b)\n",
    "    print(c)\n",
    "    print(d)\n",
    "\n",
    "p = (3,4,67)\n",
    "q = (34,56,78)\n",
    "r = {3:56,6:78,12:33}\n",
    "yourfunc(p,q,r)"
   ]
  },
  {
   "cell_type": "code",
   "execution_count": 11,
   "id": "f18e3ef5",
   "metadata": {},
   "outputs": [
    {
     "name": "stdout",
     "output_type": "stream",
     "text": [
      "[23, 45, 79]\n"
     ]
    }
   ],
   "source": [
    "def yourfunc(b): \n",
    "    b = [23,45,79]\n",
    "    return b\n",
    "\n",
    "print(yourfunc(p))"
   ]
  },
  {
   "cell_type": "code",
   "execution_count": 12,
   "id": "9d3f6bd3",
   "metadata": {},
   "outputs": [
    {
     "name": "stdout",
     "output_type": "stream",
     "text": [
      "(23, 45, 79)\n"
     ]
    }
   ],
   "source": [
    "def yourfunc(b): \n",
    "    b = (23,45,79)\n",
    "    return b\n",
    "\n",
    "print(yourfunc(p))"
   ]
  },
  {
   "cell_type": "code",
   "execution_count": 13,
   "id": "55859fc6",
   "metadata": {},
   "outputs": [
    {
     "name": "stdout",
     "output_type": "stream",
     "text": [
      "{23, 45, 79}\n"
     ]
    }
   ],
   "source": [
    "def yourfunc(b): \n",
    "    b = {23,45,79}\n",
    "    return b\n",
    "\n",
    "print(yourfunc(p))"
   ]
  },
  {
   "cell_type": "code",
   "execution_count": 14,
   "id": "ee14648e",
   "metadata": {},
   "outputs": [
    {
     "name": "stdout",
     "output_type": "stream",
     "text": [
      "{23: 1, 45: 12, 79: 'John'}\n"
     ]
    }
   ],
   "source": [
    "def yourfunc(b): \n",
    "    b = {23:1,45:12,79:\"John\"}\n",
    "    return b\n",
    "\n",
    "print(yourfunc(p))"
   ]
  },
  {
   "cell_type": "code",
   "execution_count": null,
   "id": "d2621c94",
   "metadata": {},
   "outputs": [],
   "source": []
  }
 ],
 "metadata": {
  "kernelspec": {
   "display_name": "Python 3 (ipykernel)",
   "language": "python",
   "name": "python3"
  },
  "language_info": {
   "codemirror_mode": {
    "name": "ipython",
    "version": 3
   },
   "file_extension": ".py",
   "mimetype": "text/x-python",
   "name": "python",
   "nbconvert_exporter": "python",
   "pygments_lexer": "ipython3",
   "version": "3.9.7"
  }
 },
 "nbformat": 4,
 "nbformat_minor": 5
}
