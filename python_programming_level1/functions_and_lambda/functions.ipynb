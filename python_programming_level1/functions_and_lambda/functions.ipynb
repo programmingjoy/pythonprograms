{
 "cells": [
  {
   "cell_type": "code",
   "execution_count": 2,
   "metadata": {},
   "outputs": [
    {
     "name": "stdout",
     "output_type": "stream",
     "text": [
      "Give a number9\n",
      "81\n"
     ]
    }
   ],
   "source": [
    "def yourfunc(b): \n",
    "    b = b ** 2\n",
    "    return b\n",
    "\n",
    "p = int(input(\"Give a number\"))\n",
    "print(yourfunc(p))"
   ]
  },
  {
   "cell_type": "code",
   "execution_count": 10,
   "metadata": {},
   "outputs": [
    {
     "name": "stdout",
     "output_type": "stream",
     "text": [
      "[34, 56, 77]\n"
     ]
    }
   ],
   "source": [
    "def retcollection():\n",
    "    newlist = [34,56,77]\n",
    "    return newlist\n",
    "\n",
    "x = retcollection()\n",
    "print(x)"
   ]
  },
  {
   "cell_type": "code",
   "execution_count": 11,
   "metadata": {},
   "outputs": [
    {
     "name": "stdout",
     "output_type": "stream",
     "text": [
      "{34: 0, 56: 23, 77: 1}\n"
     ]
    }
   ],
   "source": [
    "def retcollection():\n",
    "    newlist = {34:0,56:23,77:1}\n",
    "    return newlist\n",
    "\n",
    "x = retcollection()\n",
    "print(x)"
   ]
  },
  {
   "cell_type": "code",
   "execution_count": 7,
   "metadata": {},
   "outputs": [
    {
     "name": "stdout",
     "output_type": "stream",
     "text": [
      "None\n",
      "<function yourfunc at 0x00000289E5A1B790>\n"
     ]
    }
   ],
   "source": [
    "def yourfunc():\n",
    "    pass\n",
    "\n",
    "print(yourfunc())\n",
    "print(yourfunc)"
   ]
  },
  {
   "cell_type": "code",
   "execution_count": 12,
   "metadata": {},
   "outputs": [
    {
     "name": "stdout",
     "output_type": "stream",
     "text": [
      "('San Francisco', 'Los Angeles', 'Sacramento')\n",
      "<class 'tuple'>\n",
      "San Francisco\n",
      "Los Angeles\n",
      "Sacramento\n"
     ]
    }
   ],
   "source": [
    "#Tuple argument. A method in Python can receive any number of arguments stored in a \n",
    "#tuple. This requires the single-star syntax. A formal parameter of name *t can be \n",
    "#used as a tuple.\n",
    "\n",
    "#Tip: The tuple in this program, of identifier t, can be used in the same way as any tuple.\n",
    "\n",
    "#Python that receives tuple argument\n",
    "\n",
    "def display(*t):\n",
    "    # Print tuple.\n",
    "    print(t)\n",
    "    print(type(t))\n",
    "    # Loop over tuple items.\n",
    "    for item in t:\n",
    "        print(item)\n",
    "\n",
    "# Pass parameters.\n",
    "\n",
    "display(\"San Francisco\", \"Los Angeles\", \"Sacramento\")"
   ]
  },
  {
   "cell_type": "code",
   "execution_count": 13,
   "metadata": {},
   "outputs": [
    {
     "name": "stdout",
     "output_type": "stream",
     "text": [
      "<class 'dict'>\n",
      "first = Sigmund\n",
      "last = Freud\n",
      "year = 1899\n",
      "()\n",
      "<class 'dict'>\n",
      "one = 1\n",
      "two = 2\n",
      "()\n"
     ]
    }
   ],
   "source": [
    "#Python that receives dictionary argument\n",
    "\n",
    "def display(**values):\n",
    "    # Loop over dictionary.\n",
    "    print(type(values))\n",
    "    for key in values:\n",
    "        print(key, \"=\", values[key])\n",
    "    #Newline.\n",
    "    print(())\n",
    "\n",
    "\n",
    "# Pass named parameters.\n",
    "\n",
    "display(first = \"Sigmund\", last = \"Freud\", year = 1899)\n",
    "display(one = 1, two = 2)"
   ]
  },
  {
   "cell_type": "code",
   "execution_count": 14,
   "metadata": {},
   "outputs": [
    {
     "ename": "TypeError",
     "evalue": "display() takes 0 positional arguments but 2 were given",
     "output_type": "error",
     "traceback": [
      "\u001b[1;31m---------------------------------------------------------------------------\u001b[0m",
      "\u001b[1;31mTypeError\u001b[0m                                 Traceback (most recent call last)",
      "\u001b[1;32m~\\AppData\\Local\\Temp/ipykernel_13956/3361036429.py\u001b[0m in \u001b[0;36m<module>\u001b[1;34m\u001b[0m\n\u001b[0;32m     12\u001b[0m \u001b[1;31m# Pass named parameters.\u001b[0m\u001b[1;33m\u001b[0m\u001b[1;33m\u001b[0m\u001b[0m\n\u001b[0;32m     13\u001b[0m \u001b[1;33m\u001b[0m\u001b[0m\n\u001b[1;32m---> 14\u001b[1;33m \u001b[0mdisplay\u001b[0m\u001b[1;33m(\u001b[0m\u001b[1;36m45\u001b[0m\u001b[1;33m,\u001b[0m \u001b[1;36m67\u001b[0m\u001b[1;33m,\u001b[0m \u001b[0mfirst\u001b[0m \u001b[1;33m=\u001b[0m \u001b[1;34m\"Sigmund\"\u001b[0m\u001b[1;33m,\u001b[0m \u001b[0mlast\u001b[0m \u001b[1;33m=\u001b[0m \u001b[1;34m\"Freud\"\u001b[0m\u001b[1;33m,\u001b[0m \u001b[0myear\u001b[0m \u001b[1;33m=\u001b[0m \u001b[1;36m1899\u001b[0m\u001b[1;33m)\u001b[0m\u001b[1;33m\u001b[0m\u001b[1;33m\u001b[0m\u001b[0m\n\u001b[0m\u001b[0;32m     15\u001b[0m \u001b[0mdisplay\u001b[0m\u001b[1;33m(\u001b[0m\u001b[0mone\u001b[0m \u001b[1;33m=\u001b[0m \u001b[1;36m1\u001b[0m\u001b[1;33m,\u001b[0m \u001b[0mtwo\u001b[0m \u001b[1;33m=\u001b[0m \u001b[1;36m2\u001b[0m\u001b[1;33m)\u001b[0m\u001b[1;33m\u001b[0m\u001b[1;33m\u001b[0m\u001b[0m\n",
      "\u001b[1;31mTypeError\u001b[0m: display() takes 0 positional arguments but 2 were given"
     ]
    }
   ],
   "source": [
    "#Python that receives dictionary argument\n",
    "\n",
    "def display(**values):\n",
    "    # Loop over dictionary.\n",
    "    print(type(values))\n",
    "    for key in values:\n",
    "        print(key, \"=\", values[key])\n",
    "    #Newline.\n",
    "    print(())\n",
    "\n",
    "\n",
    "# Pass named parameters.\n",
    "\n",
    "display(45, 67, first = \"Sigmund\", last = \"Freud\", year = 1899)\n",
    "display(one = 1, two = 2)"
   ]
  },
  {
   "cell_type": "code",
   "execution_count": 5,
   "metadata": {},
   "outputs": [
    {
     "name": "stdout",
     "output_type": "stream",
     "text": [
      "20\n",
      "10\n",
      "30\n"
     ]
    }
   ],
   "source": [
    "#Python program that uses default arguments\n",
    "\n",
    "def computesize(width=10, height=2):\n",
    "    return width * height\n",
    "\n",
    "print(computesize()) # 10, 2: defaults used.\n",
    "print(computesize(5)) # 5, 2: default height.\n",
    "print(computesize(height=3)) # 10, 3: default width"
   ]
  },
  {
   "cell_type": "code",
   "execution_count": null,
   "metadata": {},
   "outputs": [],
   "source": []
  },
  {
   "cell_type": "code",
   "execution_count": 3,
   "metadata": {},
   "outputs": [
    {
     "name": "stdout",
     "output_type": "stream",
     "text": [
      "0 1 1 2 3 5 8 13 21 34 55 89 144 233 377 610 987 1597 \n"
     ]
    }
   ],
   "source": [
    "def fib(n):    # write Fibonacci series up to n\n",
    "    \"\"\"Print a Fibonacci series up to n.\"\"\"\n",
    "    a, b = 0, 1\n",
    "    while a < n:\n",
    "        print(a, end=' ')\n",
    "        a, b = b, a+b\n",
    "    print()\n",
    "\n",
    "# Now call the function we just defined:\n",
    "fib(2000)"
   ]
  },
  {
   "cell_type": "code",
   "execution_count": 13,
   "metadata": {},
   "outputs": [
    {
     "name": "stdout",
     "output_type": "stream",
     "text": [
      "[6, 28, 496, 8128]\n"
     ]
    }
   ],
   "source": [
    "def perfect_number():\n",
    "    pf = []\n",
    "    for num in range(1,10000):\n",
    "        total = 0\n",
    "        for val in range(1,num):\n",
    "            if num % val == 0:\n",
    "                total = total + val\n",
    "        if total == num:\n",
    "            pf.append(num)\n",
    "    return pf\n",
    "        \n",
    "pf = perfect_number()\n",
    "print(pf)"
   ]
  },
  {
   "cell_type": "code",
   "execution_count": null,
   "metadata": {},
   "outputs": [],
   "source": []
  }
 ],
 "metadata": {
  "kernelspec": {
   "display_name": "Python 3 (ipykernel)",
   "language": "python",
   "name": "python3"
  },
  "language_info": {
   "codemirror_mode": {
    "name": "ipython",
    "version": 3
   },
   "file_extension": ".py",
   "mimetype": "text/x-python",
   "name": "python",
   "nbconvert_exporter": "python",
   "pygments_lexer": "ipython3",
   "version": "3.9.7"
  }
 },
 "nbformat": 4,
 "nbformat_minor": 4
}
