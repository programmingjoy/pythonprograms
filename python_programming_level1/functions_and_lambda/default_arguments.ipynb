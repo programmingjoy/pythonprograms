{
 "cells": [
  {
   "cell_type": "code",
   "execution_count": 4,
   "metadata": {},
   "outputs": [
    {
     "name": "stdout",
     "output_type": "stream",
     "text": [
      "Hello Hrishikesh, Good morning!\n",
      "Hello Shalini, How do you do?\n",
      "Hello Karthik, Good morning!\n",
      "Hello Karthik, How do you do\n",
      "Hello How do you do, Good morning!\n"
     ]
    }
   ],
   "source": [
    "def greetings(name=\"Karthik\", msg=\"Good morning!\"):\n",
    "    \"\"\"\n",
    "    This function takes two arguments                                        \n",
    "    and greets the person with the \n",
    "    provided message\n",
    "\n",
    "    If the message is not provided,\n",
    "    it defaults to \"Good\n",
    "    morning!\"\n",
    "    \"\"\"\n",
    "    print(\"Hello\", name + ', ' + msg)\n",
    "\n",
    "\n",
    "greetings(\"Hrishikesh\")\n",
    "greetings(\"Shalini\", \"How do you do?\")\n",
    "greetings()\n",
    "greetings(msg=\"How do you do\")\n",
    "greetings(\"How do you do\")"
   ]
  },
  {
   "cell_type": "code",
   "execution_count": 5,
   "metadata": {},
   "outputs": [
    {
     "name": "stdout",
     "output_type": "stream",
     "text": [
      "Help on function greetings in module __main__:\n",
      "\n",
      "greetings(name='Karthik', msg='Good morning!')\n",
      "    This function takes two arguments                                        \n",
      "    and greets the person with the \n",
      "    provided message\n",
      "    \n",
      "    If the message is not provided,\n",
      "    it defaults to \"Good\n",
      "    morning!\"\n",
      "\n"
     ]
    }
   ],
   "source": [
    "help(greetings)"
   ]
  },
  {
   "cell_type": "code",
   "execution_count": 10,
   "metadata": {},
   "outputs": [
    {
     "name": "stdout",
     "output_type": "stream",
     "text": [
      "100\n",
      "50\n",
      "300\n"
     ]
    }
   ],
   "source": [
    "#Python program that uses default arguments\n",
    "\n",
    "def calculatearea(length=20, breadth=5):\n",
    "    return length * breadth\n",
    "\n",
    "print(calculatearea()) \n",
    "print(calculatearea(10)) \n",
    "print(calculatearea(breadth=15))"
   ]
  },
  {
   "cell_type": "code",
   "execution_count": 11,
   "metadata": {},
   "outputs": [
    {
     "name": "stdout",
     "output_type": "stream",
     "text": [
      "Hello Monica\n",
      "Hello Shalini\n",
      "Hello Steve\n",
      "Hello Faisal\n"
     ]
    }
   ],
   "source": [
    "def greet(*names):\n",
    "    \"\"\"This function greets all\n",
    "    the person in the names tuple.\"\"\"\n",
    "\n",
    "    # names is a tuple with arguments\n",
    "    for name in names:\n",
    "        print(\"Hello\", name)\n",
    "\n",
    "\n",
    "greet(\"Monica\", \"Shalini\", \"Steve\", \"Faisal\")"
   ]
  },
  {
   "cell_type": "code",
   "execution_count": null,
   "metadata": {},
   "outputs": [],
   "source": []
  }
 ],
 "metadata": {
  "kernelspec": {
   "display_name": "Python 3 (ipykernel)",
   "language": "python",
   "name": "python3"
  },
  "language_info": {
   "codemirror_mode": {
    "name": "ipython",
    "version": 3
   },
   "file_extension": ".py",
   "mimetype": "text/x-python",
   "name": "python",
   "nbconvert_exporter": "python",
   "pygments_lexer": "ipython3",
   "version": "3.9.7"
  }
 },
 "nbformat": 4,
 "nbformat_minor": 4
}
