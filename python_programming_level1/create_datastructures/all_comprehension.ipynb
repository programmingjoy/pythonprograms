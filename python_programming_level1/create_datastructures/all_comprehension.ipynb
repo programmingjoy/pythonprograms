{
 "cells": [
  {
   "cell_type": "code",
   "execution_count": 1,
   "id": "10e6676d",
   "metadata": {},
   "outputs": [
    {
     "name": "stdout",
     "output_type": "stream",
     "text": [
      "[0, 3, 6, 9, 12, 15, 18, 21, 24, 27, 30, 33, 36, 39, 42, 45, 48, 51, 54, 57, 60, 63, 66, 69, 72, 75, 78, 81, 84, 87, 90, 93, 96, 99]\n"
     ]
    }
   ],
   "source": [
    "fact3 = [x for x in range(100) if x%3 == 0]\n",
    "print(fact3)"
   ]
  },
  {
   "cell_type": "code",
   "execution_count": 2,
   "id": "cc56429d",
   "metadata": {},
   "outputs": [
    {
     "name": "stdout",
     "output_type": "stream",
     "text": [
      "{0, 3, 6, 9, 12, 15, 18, 21, 24, 27, 30, 33, 36, 39, 42, 45, 48, 51, 54, 57, 60, 63, 66, 69, 72, 75, 78, 81, 84, 87, 90, 93, 96, 99}\n"
     ]
    }
   ],
   "source": [
    "fact3 = {x for x in range(100) if x%3 == 0}\n",
    "print(fact3)"
   ]
  },
  {
   "cell_type": "code",
   "execution_count": 3,
   "id": "6657ac65",
   "metadata": {},
   "outputs": [
    {
     "name": "stdout",
     "output_type": "stream",
     "text": [
      "{33, 67, 45, 78}\n"
     ]
    }
   ],
   "source": [
    "newlist = [45,67,78,45,67,33,78]\n",
    "print(set(newlist))"
   ]
  },
  {
   "cell_type": "code",
   "execution_count": 2,
   "id": "63e77c60",
   "metadata": {},
   "outputs": [
    {
     "name": "stdout",
     "output_type": "stream",
     "text": [
      "{0: 0, 3: 27, 6: 216, 9: 729, 12: 1728, 15: 3375, 18: 5832, 21: 9261, 24: 13824, 27: 19683, 30: 27000, 33: 35937, 36: 46656, 39: 59319, 42: 74088, 45: 91125, 48: 110592, 51: 132651, 54: 157464, 57: 185193, 60: 216000, 63: 250047, 66: 287496, 69: 328509, 72: 373248, 75: 421875, 78: 474552, 81: 531441, 84: 592704, 87: 658503, 90: 729000, 93: 804357, 96: 884736, 99: 970299}\n"
     ]
    }
   ],
   "source": [
    "fact3 = {x:x*x*x for x in range(100) if x%3 == 0}\n",
    "print(fact3)"
   ]
  },
  {
   "cell_type": "code",
   "execution_count": 3,
   "id": "35a41c36",
   "metadata": {},
   "outputs": [
    {
     "name": "stdout",
     "output_type": "stream",
     "text": [
      "(0, 3, 6, 9, 12, 15, 18, 21, 24, 27, 30, 33, 36, 39, 42, 45, 48, 51, 54, 57, 60, 63, 66, 69, 72, 75, 78, 81, 84, 87, 90, 93, 96, 99)\n"
     ]
    }
   ],
   "source": [
    "fact3 = *(x for x in range(100) if x%3 == 0),\n",
    "print(fact3)"
   ]
  },
  {
   "cell_type": "code",
   "execution_count": null,
   "id": "b3770250",
   "metadata": {},
   "outputs": [],
   "source": [
    "num_list = [y for y in range(100) if y % 2 == 0 if y % 5 == 0]\n",
    "print(num_list)"
   ]
  },
  {
   "cell_type": "code",
   "execution_count": null,
   "id": "d4902b46",
   "metadata": {},
   "outputs": [],
   "source": [
    "obj = [\"Even\" if i%2==0 else \"Odd\" for i in range(10)]\n",
    "print(obj)"
   ]
  },
  {
   "cell_type": "raw",
   "id": "8f4c5c67",
   "metadata": {},
   "source": [
    "List comprehension is an elegant way to define and create lists based on existing lists.\n",
    "List comprehension is generally more compact and faster than normal functions and loops \n",
    "for creating list.\n",
    "However, we should avoid writing very long list comprehensions in one line to ensure that \n",
    "code is user-friendly.\n",
    "Remember, every list comprehension can be rewritten in for loop, but every for loop can’t be \n",
    "rewritten in the form of list comprehension."
   ]
  },
  {
   "cell_type": "code",
   "execution_count": null,
   "id": "28cc65c1",
   "metadata": {},
   "outputs": [],
   "source": [
    "print({x*x for x in range(1,10) if x % 2 != 0})"
   ]
  },
  {
   "cell_type": "code",
   "execution_count": null,
   "id": "ff981b22",
   "metadata": {},
   "outputs": [],
   "source": [
    "print({x:x ** 2 for x in range(1,10) if x % 2 != 0})"
   ]
  },
  {
   "cell_type": "code",
   "execution_count": null,
   "id": "4a1b327a",
   "metadata": {},
   "outputs": [],
   "source": [
    "print([x for x in range(1,30,2)])"
   ]
  },
  {
   "cell_type": "code",
   "execution_count": null,
   "id": "acfbe724",
   "metadata": {},
   "outputs": [],
   "source": []
  }
 ],
 "metadata": {
  "kernelspec": {
   "display_name": "Python 3 (ipykernel)",
   "language": "python",
   "name": "python3"
  },
  "language_info": {
   "codemirror_mode": {
    "name": "ipython",
    "version": 3
   },
   "file_extension": ".py",
   "mimetype": "text/x-python",
   "name": "python",
   "nbconvert_exporter": "python",
   "pygments_lexer": "ipython3",
   "version": "3.9.7"
  }
 },
 "nbformat": 4,
 "nbformat_minor": 5
}
