{
 "cells": [
  {
   "cell_type": "markdown",
   "id": "2d5e567f",
   "metadata": {},
   "source": [
    "# python dynamic typing"
   ]
  },
  {
   "cell_type": "code",
   "execution_count": 5,
   "id": "5e25eafe",
   "metadata": {},
   "outputs": [
    {
     "name": "stdout",
     "output_type": "stream",
     "text": [
      "10\n"
     ]
    }
   ],
   "source": [
    "newint = 10\n",
    "print(newint)"
   ]
  },
  {
   "cell_type": "code",
   "execution_count": 6,
   "id": "a6b1214f",
   "metadata": {},
   "outputs": [
    {
     "name": "stdout",
     "output_type": "stream",
     "text": [
      "34.45\n"
     ]
    }
   ],
   "source": [
    "newfloat = 34.45\n",
    "print(newfloat)"
   ]
  },
  {
   "cell_type": "code",
   "execution_count": 7,
   "id": "f76c1b31",
   "metadata": {},
   "outputs": [
    {
     "name": "stdout",
     "output_type": "stream",
     "text": [
      "p\n"
     ]
    }
   ],
   "source": [
    "newchar = 'p'\n",
    "print(newchar)"
   ]
  },
  {
   "cell_type": "code",
   "execution_count": 8,
   "id": "5c07cae3",
   "metadata": {},
   "outputs": [
    {
     "name": "stdout",
     "output_type": "stream",
     "text": [
      "Hello friends\n"
     ]
    }
   ],
   "source": [
    "newstring = 'Hello friends'\n",
    "print(newstring)"
   ]
  },
  {
   "cell_type": "markdown",
   "id": "a95032be",
   "metadata": {},
   "source": [
    "# python collection data types"
   ]
  },
  {
   "cell_type": "markdown",
   "id": "d705b229",
   "metadata": {},
   "source": [
    "# list"
   ]
  },
  {
   "cell_type": "code",
   "execution_count": 25,
   "id": "1a6e8ead",
   "metadata": {},
   "outputs": [
    {
     "name": "stdout",
     "output_type": "stream",
     "text": [
      "[23, 45, 67, 78, 99, 99]\n"
     ]
    }
   ],
   "source": [
    "newlist = [23,45,67,78,99,99]\n",
    "print(newlist)"
   ]
  },
  {
   "cell_type": "code",
   "execution_count": 28,
   "id": "e0a6a873",
   "metadata": {},
   "outputs": [
    {
     "name": "stdout",
     "output_type": "stream",
     "text": [
      "Give a value  34\n",
      "34\n"
     ]
    }
   ],
   "source": [
    "val = input(\"Give a value  \")\n",
    "print(val)"
   ]
  },
  {
   "cell_type": "markdown",
   "id": "166a7022",
   "metadata": {},
   "source": [
    "# dictionary"
   ]
  },
  {
   "cell_type": "code",
   "execution_count": 10,
   "id": "8cb857d5",
   "metadata": {},
   "outputs": [
    {
     "name": "stdout",
     "output_type": "stream",
     "text": [
      "{'Student': 'Karthik', 45: 'Ramesh', 67: 'Vandana', 78: 'Faisal', 'Andy': 99}\n"
     ]
    }
   ],
   "source": [
    "gooddict = {\"Student\":\"Karthik\",45:\"Ramesh\",67:\"Vandana\",78:\"Faisal\",\"Andy\": 99}\n",
    "print(gooddict)"
   ]
  },
  {
   "cell_type": "code",
   "execution_count": 15,
   "id": "d85cd516",
   "metadata": {},
   "outputs": [
    {
     "name": "stdout",
     "output_type": "stream",
     "text": [
      "Student 45 67 78 Andy "
     ]
    }
   ],
   "source": [
    "for key in gooddict:\n",
    "    print(key, end=\" \")"
   ]
  },
  {
   "cell_type": "code",
   "execution_count": 14,
   "id": "747312f3",
   "metadata": {},
   "outputs": [
    {
     "name": "stdout",
     "output_type": "stream",
     "text": [
      "Student Karthik   45 Ramesh   67 Vandana   78 Faisal   Andy 99   "
     ]
    }
   ],
   "source": [
    "for key, value in gooddict.items():\n",
    "    print(key,value,end=\"   \")"
   ]
  },
  {
   "cell_type": "markdown",
   "id": "c869aafe",
   "metadata": {},
   "source": [
    "# tuple"
   ]
  },
  {
   "cell_type": "code",
   "execution_count": 29,
   "id": "f782203d",
   "metadata": {},
   "outputs": [
    {
     "name": "stdout",
     "output_type": "stream",
     "text": [
      "(23, 45, 67, 78, 99, 99)\n"
     ]
    }
   ],
   "source": [
    "newtuple = (23,45,67,78,99,99)\n",
    "print(newtuple)"
   ]
  },
  {
   "cell_type": "code",
   "execution_count": 18,
   "id": "28dc41b5",
   "metadata": {},
   "outputs": [
    {
     "name": "stdout",
     "output_type": "stream",
     "text": [
      "67\n"
     ]
    }
   ],
   "source": [
    "print(newtuple[2])"
   ]
  },
  {
   "cell_type": "markdown",
   "id": "74c1865f",
   "metadata": {},
   "source": [
    "# set"
   ]
  },
  {
   "cell_type": "code",
   "execution_count": 22,
   "id": "e6904b21",
   "metadata": {},
   "outputs": [
    {
     "name": "stdout",
     "output_type": "stream",
     "text": [
      "{67, 99, 23, 45, 78}\n"
     ]
    }
   ],
   "source": [
    "goodset = {23, 45, 67, 78, 99, 78}\n",
    "print(goodset)"
   ]
  },
  {
   "cell_type": "code",
   "execution_count": 23,
   "id": "67d3d8b7",
   "metadata": {},
   "outputs": [
    {
     "ename": "TypeError",
     "evalue": "'set' object is not subscriptable",
     "output_type": "error",
     "traceback": [
      "\u001b[1;31m---------------------------------------------------------------------------\u001b[0m",
      "\u001b[1;31mTypeError\u001b[0m                                 Traceback (most recent call last)",
      "\u001b[1;32m~\\AppData\\Local\\Temp/ipykernel_10372/4011522887.py\u001b[0m in \u001b[0;36m<module>\u001b[1;34m\u001b[0m\n\u001b[1;32m----> 1\u001b[1;33m \u001b[0mprint\u001b[0m\u001b[1;33m(\u001b[0m\u001b[0mgoodset\u001b[0m\u001b[1;33m[\u001b[0m\u001b[1;36m2\u001b[0m\u001b[1;33m]\u001b[0m\u001b[1;33m)\u001b[0m\u001b[1;33m\u001b[0m\u001b[1;33m\u001b[0m\u001b[0m\n\u001b[0m",
      "\u001b[1;31mTypeError\u001b[0m: 'set' object is not subscriptable"
     ]
    }
   ],
   "source": [
    "print(goodset[2])"
   ]
  },
  {
   "cell_type": "code",
   "execution_count": null,
   "id": "5d41dfff",
   "metadata": {},
   "outputs": [],
   "source": []
  },
  {
   "cell_type": "code",
   "execution_count": null,
   "id": "92813df5",
   "metadata": {},
   "outputs": [],
   "source": []
  },
  {
   "cell_type": "markdown",
   "id": "54172fa2",
   "metadata": {},
   "source": [
    "# conditional statement - if and else"
   ]
  },
  {
   "cell_type": "code",
   "execution_count": 1,
   "id": "440534d2",
   "metadata": {},
   "outputs": [
    {
     "name": "stdout",
     "output_type": "stream",
     "text": [
      "Success\n"
     ]
    }
   ],
   "source": [
    "newlist = [\"banana\", \"apple\", \"pear\", \"orange\", \"pomogranite\", \"muskmelon\", \"blackberry\"]\n",
    "\n",
    "if \"banana\" in newlist:\n",
    "    print(\"Success\")\n",
    "else:\n",
    "    print(\"Not Present\")"
   ]
  },
  {
   "cell_type": "code",
   "execution_count": 30,
   "id": "bb206bc1",
   "metadata": {},
   "outputs": [
    {
     "name": "stdout",
     "output_type": "stream",
     "text": [
      "True\n"
     ]
    }
   ],
   "source": [
    "if (5>2):\n",
    "    print(\"True\")\n",
    "else:\n",
    "    print(\"False\")"
   ]
  },
  {
   "cell_type": "code",
   "execution_count": 2,
   "id": "a6f14428",
   "metadata": {},
   "outputs": [
    {
     "name": "stdout",
     "output_type": "stream",
     "text": [
      "0 1 2 3 4 5 "
     ]
    }
   ],
   "source": [
    "for var in range(0,6):\n",
    "    print(var,end=\" \")"
   ]
  },
  {
   "cell_type": "code",
   "execution_count": 3,
   "id": "925a3223",
   "metadata": {},
   "outputs": [
    {
     "name": "stdout",
     "output_type": "stream",
     "text": [
      "23 67 44 2 15 66 "
     ]
    }
   ],
   "source": [
    "# Access every 2nd element in a list\n",
    "newlist = [23, 45, 67, 87, 44, 33, 2, 11, 15, 99, 66]\n",
    "index = 0\n",
    "while index < len(newlist):\n",
    "    print(newlist[index], end = \" \")\n",
    "    index = index + 2"
   ]
  },
  {
   "cell_type": "code",
   "execution_count": null,
   "id": "f152ac7e",
   "metadata": {},
   "outputs": [],
   "source": []
  }
 ],
 "metadata": {
  "kernelspec": {
   "display_name": "Python 3 (ipykernel)",
   "language": "python",
   "name": "python3"
  },
  "language_info": {
   "codemirror_mode": {
    "name": "ipython",
    "version": 3
   },
   "file_extension": ".py",
   "mimetype": "text/x-python",
   "name": "python",
   "nbconvert_exporter": "python",
   "pygments_lexer": "ipython3",
   "version": "3.9.7"
  }
 },
 "nbformat": 4,
 "nbformat_minor": 5
}
