{
 "cells": [
  {
   "cell_type": "code",
   "execution_count": 1,
   "id": "b16d98c7",
   "metadata": {},
   "outputs": [
    {
     "name": "stdout",
     "output_type": "stream",
     "text": [
      "Hello my name is Vishnu\n"
     ]
    }
   ],
   "source": [
    "class Person:\n",
    "  def __init__(self, name, age):\n",
    "    self.name = name\n",
    "    self.age = age\n",
    "\n",
    "  def myfunc(self):\n",
    "    print(\"Hello my name is \" + self.name)\n",
    "\n",
    "p1 = Person(\"Vishnu\", 36)\n",
    "p1.myfunc()"
   ]
  },
  {
   "cell_type": "code",
   "execution_count": 4,
   "id": "f285142f",
   "metadata": {},
   "outputs": [
    {
     "name": "stdout",
     "output_type": "stream",
     "text": [
      "Length:  80\n",
      "Breadth:  50\n",
      "Area:  4000\n"
     ]
    }
   ],
   "source": [
    "class Shape:\n",
    "    # constructor\n",
    "    def __init__(self, length, breadth):\n",
    "        self.length = length\n",
    "        self.breadth = breadth\n",
    "          \n",
    "    # public member function\n",
    "    def displaySides(self):\n",
    "  \n",
    "        # accessing protected data members\n",
    "        print(\"Length: \", self.length)\n",
    "        print(\"Breadth: \", self.breadth)\n",
    "        \n",
    "# derived class\n",
    "class Rectangle(Shape):\n",
    "    \n",
    "    # constructor\n",
    "    def __init__(self, length, breadth):\n",
    "  \n",
    "        # Calling the constructor of super class\n",
    "        Shape.__init__(self, length, breadth)\n",
    "          \n",
    "    # public member function\n",
    "    def calculateArea(self):\n",
    "                      \n",
    "        # accessing protected data members of super class\n",
    "        print(\"Area: \", self.length * self.breadth)\n",
    "\n",
    "obj = Rectangle(80, 50)\n",
    "obja= Shape(20,10)\n",
    "#print(obja.length)\n",
    "#print(obja.breadth)\n",
    "\n",
    "# calling derived member\n",
    "# functions of the class\n",
    "obj.displaySides()\n",
    "  \n",
    "# calling public member\n",
    "# functions of the class\n",
    "obj.calculateArea()  "
   ]
  },
  {
   "cell_type": "code",
   "execution_count": 5,
   "id": "01b4affa",
   "metadata": {},
   "outputs": [
    {
     "name": "stdout",
     "output_type": "stream",
     "text": [
      "20\n",
      "10\n",
      "Length:  80\n",
      "Breadth:  50\n",
      "Area:  4000\n"
     ]
    }
   ],
   "source": [
    "# program to illustrate protected\n",
    "# data members in a class\n",
    "\n",
    "# super class\n",
    "class Shape:\n",
    "      \n",
    "    # constructor\n",
    "    def __init__(self, length, breadth):\n",
    "        self._length = length\n",
    "        self._breadth = breadth\n",
    "          \n",
    "    # public member function\n",
    "    def displaySides(self):\n",
    "        # accessing protected data members\n",
    "        print(\"Length: \", self._length)\n",
    "        print(\"Breadth: \", self._breadth)\n",
    "        \n",
    "  \n",
    "# derived class\n",
    "class Rectangle(Shape):\n",
    "  \n",
    "    # constructor\n",
    "    def __init__(self, length, breadth):\n",
    "        # Calling the constructor of\n",
    "        # Super class\n",
    "        Shape.__init__(self, length, breadth)\n",
    "          \n",
    "    # public member function\n",
    "    def calculateArea(self):                \n",
    "        # accessing protected data members of super class\n",
    "        print(\"Area: \", self._length * self._breadth)\n",
    "\n",
    "  \n",
    "# creating objects of the\n",
    "# derived class\n",
    "obj = Rectangle(80, 50)\n",
    "obja= Shape(20,10)\n",
    "print(obja._length)\n",
    "print(obja._breadth)\n",
    "\n",
    "# calling derived member\n",
    "# functions of the class\n",
    "obj.displaySides()\n",
    "  \n",
    "# calling public member\n",
    "# functions of the class\n",
    "obj.calculateArea()  "
   ]
  },
  {
   "cell_type": "code",
   "execution_count": 9,
   "id": "b514ed2f",
   "metadata": {},
   "outputs": [
    {
     "ename": "AttributeError",
     "evalue": "'Shape' object has no attribute '__length'",
     "output_type": "error",
     "traceback": [
      "\u001b[1;31m---------------------------------------------------------------------------\u001b[0m",
      "\u001b[1;31mAttributeError\u001b[0m                            Traceback (most recent call last)",
      "\u001b[1;32m~\\AppData\\Local\\Temp/ipykernel_13096/997935821.py\u001b[0m in \u001b[0;36m<module>\u001b[1;34m\u001b[0m\n\u001b[0;32m     36\u001b[0m \u001b[0mobj\u001b[0m \u001b[1;33m=\u001b[0m \u001b[0mRectangle\u001b[0m\u001b[1;33m(\u001b[0m\u001b[1;36m80\u001b[0m\u001b[1;33m,\u001b[0m \u001b[1;36m50\u001b[0m\u001b[1;33m)\u001b[0m\u001b[1;33m\u001b[0m\u001b[1;33m\u001b[0m\u001b[0m\n\u001b[0;32m     37\u001b[0m \u001b[0mobja\u001b[0m\u001b[1;33m=\u001b[0m \u001b[0mShape\u001b[0m\u001b[1;33m(\u001b[0m\u001b[1;36m20\u001b[0m\u001b[1;33m,\u001b[0m\u001b[1;36m10\u001b[0m\u001b[1;33m)\u001b[0m\u001b[1;33m\u001b[0m\u001b[1;33m\u001b[0m\u001b[0m\n\u001b[1;32m---> 38\u001b[1;33m \u001b[0mprint\u001b[0m\u001b[1;33m(\u001b[0m\u001b[0mobja\u001b[0m\u001b[1;33m.\u001b[0m\u001b[0m__length\u001b[0m\u001b[1;33m)\u001b[0m\u001b[1;33m\u001b[0m\u001b[1;33m\u001b[0m\u001b[0m\n\u001b[0m\u001b[0;32m     39\u001b[0m \u001b[1;31m#print(obja.__breadth)\u001b[0m\u001b[1;33m\u001b[0m\u001b[1;33m\u001b[0m\u001b[0m\n\u001b[0;32m     40\u001b[0m \u001b[1;33m\u001b[0m\u001b[0m\n",
      "\u001b[1;31mAttributeError\u001b[0m: 'Shape' object has no attribute '__length'"
     ]
    }
   ],
   "source": [
    "# program to illustrate protected\n",
    "# data members in a class\n",
    "\n",
    "# super class\n",
    "class Shape:\n",
    "      \n",
    "    # constructor\n",
    "    def __init__(self, length, breadth):\n",
    "        self.__length = length\n",
    "        self.__breadth = breadth\n",
    "          \n",
    "    # public member function\n",
    "    def displaySides(self):\n",
    "        # accessing protected data members\n",
    "        print(\"Length: \", self.__length)\n",
    "        print(\"Breadth: \", self.__breadth)\n",
    "        \n",
    "  \n",
    "# derived class\n",
    "class Rectangle(Shape):\n",
    "  \n",
    "    # constructor\n",
    "    def __init__(self, length, breadth):\n",
    "        # Calling the constructor of\n",
    "        # Super class\n",
    "        Shape.__init__(self, length, breadth)\n",
    "          \n",
    "    # public member function\n",
    "    def calculateArea(self):                \n",
    "        # accessing protected data members of super class\n",
    "        print(\"Area: \", self.__length * self.__breadth)\n",
    "\n",
    "  \n",
    "# creating objects of the\n",
    "# derived class\n",
    "obj = Rectangle(80, 50)\n",
    "obja= Shape(20,10)\n",
    "print(obja.__length)\n",
    "#print(obja.__breadth)\n",
    "\n",
    "# calling derived member\n",
    "# functions of the class\n",
    "obj.displaySides()\n",
    "  \n",
    "# calling public member\n",
    "# functions of the class\n",
    "#obj.calculateArea()  "
   ]
  },
  {
   "cell_type": "code",
   "execution_count": null,
   "id": "d8f87653",
   "metadata": {},
   "outputs": [],
   "source": []
  }
 ],
 "metadata": {
  "kernelspec": {
   "display_name": "Python 3 (ipykernel)",
   "language": "python",
   "name": "python3"
  },
  "language_info": {
   "codemirror_mode": {
    "name": "ipython",
    "version": 3
   },
   "file_extension": ".py",
   "mimetype": "text/x-python",
   "name": "python",
   "nbconvert_exporter": "python",
   "pygments_lexer": "ipython3",
   "version": "3.9.7"
  }
 },
 "nbformat": 4,
 "nbformat_minor": 5
}
